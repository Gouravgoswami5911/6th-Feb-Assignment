{
 "cells": [
  {
   "cell_type": "code",
   "execution_count": 1,
   "id": "0059bbd3",
   "metadata": {},
   "outputs": [
    {
     "name": "stdout",
     "output_type": "stream",
     "text": [
      "Product of all the numbers: 0\n"
     ]
    }
   ],
   "source": [
    "#Question1: Create a function which will take a list as an argument and return the product of all the numbers\n",
    "# after creating a flat list.\n",
    "\n",
    "# Use the below-given list as an argument for your function.\n",
    "\n",
    "\n",
    "# list1 = [1,2,3,4, [44,55,66, True], False, (34,56,78,89,34), {1,2,3,3,2,1}, {1:34, \"key2\": [55, 67, 78, 89], 4: (45,\n",
    "# 22, 61, 34)}, [56, 'data science'], 'Machine Learning']\n",
    "\n",
    "# Note: you must extract numeric keys and values of the dictionary also.\n",
    "\n",
    "\n",
    "from collections.abc import Iterable\n",
    "\n",
    "def flatten_list_and_get_product(lst):\n",
    "    flat_list = []\n",
    "    def flatten(lst):\n",
    "        for item in lst:\n",
    "            if isinstance(item, (int, float)):\n",
    "                flat_list.append(item)\n",
    "            elif isinstance(item, (list, tuple, set, dict)):\n",
    "                flatten(item)\n",
    "    flatten(lst)\n",
    "    product = 1\n",
    "    for num in flat_list:\n",
    "        product *= num\n",
    "    return product\n",
    "\n",
    "list1 = [1, 2, 3, 4, [44, 55, 66, True], False, (34, 56, 78, 89, 34), {1, 2, 3, 3, 2, 1}, {1: 34, \"key2\": [55, 67, 78, 89], 4: (45, 22, 61, 34)}, [56, 'data science'], 'Machine Learning']\n",
    "\n",
    "result = flatten_list_and_get_product(list1)\n",
    "print(\"Product of all the numbers:\", result)\n",
    "\n",
    "\n"
   ]
  },
  {
   "cell_type": "code",
   "execution_count": 2,
   "id": "4fe63ad2",
   "metadata": {},
   "outputs": [
    {
     "name": "stdout",
     "output_type": "stream",
     "text": [
      "r$dzmg$gl$yvxlnv$z$wzgz$hxrvmgrhg.\n"
     ]
    }
   ],
   "source": [
    "#Question2: Write a python program for encrypting a message sent to you by your friend. The logic of encryption\n",
    "# should be such that, for a the output should be z. For b, the output should be y. For c, the output should\n",
    "# be x respectively. Also, the whitespace should be replaced with a dollar sign. Keep the punctuation\n",
    "# marks unchanged.\n",
    "\n",
    "\n",
    "# Input Sentence: I want to become a Data Scientist.\n",
    "\n",
    "\n",
    "# Encrypt the above input sentence using the program you just created.\n",
    "\n",
    "\n",
    "# Note: Convert the given input sentence into lowercase before encrypting. The final output should be\n",
    "# lowercase.\n",
    "\n",
    "\n",
    "\n",
    "\n",
    "\n",
    "\n",
    "\n",
    "def encrypt(message):\n",
    "    mapping = {'a': 'z', 'b': 'y', 'c': 'x', 'd': 'w', 'e': 'v', 'f': 'u', 'g': 't', 'h': 's', 'i': 'r', 'j': 'q', 'k': 'p', 'l': 'o', 'm': 'n', 'n': 'm', 'o': 'l', 'p': 'k', 'q': 'j', 'r': 'i', 's': 'h', 't': 'g', 'u': 'f', 'v': 'e', 'w': 'd', 'x': 'c', 'y': 'b', 'z': 'a'}\n",
    "    encrypted_message = \"\"\n",
    "    for char in message:\n",
    "        if char in mapping:\n",
    "            encrypted_message += mapping[char]\n",
    "        elif char == \" \":\n",
    "            encrypted_message += \"$\"\n",
    "        else:\n",
    "            encrypted_message += char\n",
    "    return encrypted_message\n",
    "\n",
    "message = \"I want to become a Data Scientist.\"\n",
    "message = message.lower()\n",
    "encrypted_message = encrypt(message)\n",
    "print(encrypted_message)\n"
   ]
  },
  {
   "cell_type": "code",
   "execution_count": null,
   "id": "928bfa0f",
   "metadata": {},
   "outputs": [],
   "source": []
  }
 ],
 "metadata": {
  "kernelspec": {
   "display_name": "Python 3 (ipykernel)",
   "language": "python",
   "name": "python3"
  },
  "language_info": {
   "codemirror_mode": {
    "name": "ipython",
    "version": 3
   },
   "file_extension": ".py",
   "mimetype": "text/x-python",
   "name": "python",
   "nbconvert_exporter": "python",
   "pygments_lexer": "ipython3",
   "version": "3.9.6"
  }
 },
 "nbformat": 4,
 "nbformat_minor": 5
}
